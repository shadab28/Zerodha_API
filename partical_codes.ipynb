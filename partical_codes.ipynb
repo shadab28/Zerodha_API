{
 "cells": [
  {
   "cell_type": "code",
   "execution_count": 16,
   "metadata": {},
   "outputs": [],
   "source": [
    "from kiteconnect import KiteConnect\n",
    "from dotenv import load_dotenv\n",
    "import pandas as pd\n",
    "import os"
   ]
  },
  {
   "cell_type": "code",
   "execution_count": 17,
   "metadata": {},
   "outputs": [
    {
     "name": "stdout",
     "output_type": "stream",
     "text": [
      "https://kite.zerodha.com/connect/login?api_key=rpvy2yejz6htme4x&v=3\n"
     ]
    }
   ],
   "source": [
    "load_dotenv(\"..env\")\n",
    "ACCESS_TOKEN = os.getenv(\"ACCESS_TOKEN\")\n",
    "key = os.getenv(\"KITE_API_KEY\")\n",
    "secret = os.getenv(\"KITE_API_SECRET\")\n",
    "kite = KiteConnect(api_key = key)\n",
    "print(kite.login_url())\n",
    "\n",
    "# kite = kiteconnect.access_token = secret\n",
    "code  = input(\"Enter the request_token by copying it from your browser: \")\n",
    "\n",
    "request_token = str(code)\n",
    "data = kite.generate_session(request_token, api_secret=secret)\n",
    "kite.set_access_token(data['access_token'])\n",
    "access_token = data['access_token']"
   ]
  },
  {
   "cell_type": "code",
   "execution_count": 23,
   "metadata": {},
   "outputs": [
    {
     "ename": "SyntaxError",
     "evalue": "unmatched ']' (1436700041.py, line 6)",
     "output_type": "error",
     "traceback": [
      "\u001B[0;36m  Cell \u001B[0;32mIn[23], line 6\u001B[0;36m\u001B[0m\n\u001B[0;31m    ]]]]]]]]\u001B[0m\n\u001B[0m           ^\u001B[0m\n\u001B[0;31mSyntaxError\u001B[0m\u001B[0;31m:\u001B[0m unmatched ']'\n"
     ]
    }
   ],
   "source": []
  },
  {
   "cell_type": "code",
   "execution_count": 24,
   "metadata": {},
   "outputs": [
    {
     "ename": "SyntaxError",
     "evalue": "unmatched ']' (2226485198.py, line 18)",
     "output_type": "error",
     "traceback": [
      "\u001B[0;36m  Cell \u001B[0;32mIn[24], line 18\u001B[0;36m\u001B[0m\n\u001B[0;31m    ][';plkjhgfdsxzaASDFGYHIKL;P'\u001B[0m\n\u001B[0m    ^\u001B[0m\n\u001B[0;31mSyntaxError\u001B[0m\u001B[0;31m:\u001B[0m unmatched ']'\n"
     ]
    }
   ],
   "source": [
    "import NiftySymbol as ns\n",
    "import time\n",
    "def get_token_from_symbol(symbols):\n",
    "    ins = pd.read_csv(\"Csvs/NSE_all_instruments.csv\")\n",
    "    by_key = {\n",
    "        (row[\"exchange\"], row[\"tradingsymbol\"]): row\n",
    "        for _, row in ins.iterrows()\n",
    "    }\n",
    "    resolved = []\n",
    "    for s in symbols:\n",
    "        key = (\"NSE\", s)\n",
    "        if key not in by_key:\n",
    "            raise RuntimeError(f\"Instrument not found: {key}\")\n",
    "        row = by_key[key]\n",
    "        resolved.append(row[\"instrument_token\"])\n",
    "    return resolved\n",
    "instrument = ns.NiftyMidcap100\n",
    "tokens = get_token_from_symbol(instrument)  # Example instrument token\n",
    "from_date = \"2025-08-18\"\n",
    "to_date = \"2025-08-22\"\n",
    "for token in tokens:\n",
    "    print(token)\n",
    "    hist_data = kite.historical_data(token, from_date, to_date, interval=\"60minute\")\n",
    "    print(hist_data)\n",
    "    time.sleep(0.1)"
   ]
  },
  {
   "cell_type": "code",
   "execution_count": 25,
   "metadata": {},
   "outputs": [
    {
     "name": "stdout",
     "output_type": "stream",
     "text": [
      "                        date    open    high     low   close  volume\n",
      "0  2025-08-18 09:15:00+05:30  634.75  650.05  633.50  645.65  554199\n",
      "1  2025-08-18 10:15:00+05:30  645.65  645.75  639.10  643.80  247459\n",
      "2  2025-08-18 11:15:00+05:30  643.80  646.00  642.95  644.25  253617\n",
      "3  2025-08-18 12:15:00+05:30  644.25  644.50  639.60  640.35   93709\n",
      "4  2025-08-18 13:15:00+05:30  640.15  640.35  637.50  638.25  103958\n",
      "5  2025-08-18 14:15:00+05:30  638.25  638.25  634.30  634.50  294349\n",
      "6  2025-08-18 15:15:00+05:30  634.55  636.90  634.30  636.25  140891\n",
      "7  2025-08-19 09:15:00+05:30  638.70  638.70  625.20  627.35  266608\n",
      "8  2025-08-19 10:15:00+05:30  627.40  630.15  625.45  628.75  121488\n",
      "9  2025-08-19 11:15:00+05:30  628.45  630.85  627.10  628.20  149564\n",
      "10 2025-08-19 12:15:00+05:30  628.25  630.00  627.80  628.60   96200\n",
      "11 2025-08-19 13:15:00+05:30  628.60  629.75  626.25  629.75  273925\n",
      "12 2025-08-19 14:15:00+05:30  629.75  634.80  629.30  634.05  518791\n",
      "13 2025-08-19 15:15:00+05:30  634.05  634.75  633.15  633.45  192014\n",
      "14 2025-08-20 09:15:00+05:30  634.05  639.00  630.00  637.60  519987\n",
      "15 2025-08-20 10:15:00+05:30  637.60  637.70  634.55  635.50  101009\n",
      "16 2025-08-20 11:15:00+05:30  635.40  635.60  631.75  633.45  266707\n",
      "17 2025-08-20 12:15:00+05:30  633.40  635.55  633.10  634.35   72179\n",
      "18 2025-08-20 13:15:00+05:30  634.30  635.90  633.50  634.35  103165\n",
      "19 2025-08-20 14:15:00+05:30  634.35  634.65  633.05  633.80  126750\n",
      "20 2025-08-20 15:15:00+05:30  633.80  635.95  633.65  635.80  102354\n",
      "21 2025-08-21 09:15:00+05:30  634.20  638.15  630.25  631.35  492841\n",
      "22 2025-08-21 10:15:00+05:30  631.35  631.95  629.20  631.00  128367\n",
      "23 2025-08-21 11:15:00+05:30  631.00  631.65  629.50  630.10   46780\n",
      "24 2025-08-21 12:15:00+05:30  630.10  630.30  627.15  629.30  129511\n",
      "25 2025-08-21 13:15:00+05:30  629.35  630.55  628.00  628.90  114193\n",
      "26 2025-08-21 14:15:00+05:30  628.90  629.35  626.45  628.20  121590\n",
      "27 2025-08-21 15:15:00+05:30  627.50  628.25  625.45  626.00  151825\n",
      "28 2025-08-22 09:15:00+05:30  627.35  632.40  622.00  628.50  276551\n",
      "29 2025-08-22 10:15:00+05:30  628.50  628.75  625.45  625.55   70812\n",
      "30 2025-08-22 11:15:00+05:30  625.75  626.10  623.60  623.60   67246\n",
      "31 2025-08-22 12:15:00+05:30  623.85  624.10  622.15  623.30   61202\n",
      "32 2025-08-22 13:15:00+05:30  623.30  625.10  623.00  624.35   56393\n",
      "33 2025-08-22 14:15:00+05:30  624.35  624.75  618.30  618.30  197445\n",
      "34 2025-08-22 15:15:00+05:30  619.10  619.80  616.50  619.15  159094\n"
     ]
    }
   ],
   "source": [
    "# Convert to DataFrame\n",
    "df = pd.DataFrame(hist_data)\n",
    "print(df)"
   ]
  }
 ],
 "metadata": {
  "kernelspec": {
   "display_name": "base",
   "language": "python",
   "name": "python3"
  },
  "language_info": {
   "codemirror_mode": {
    "name": "ipython",
    "version": 3
   },
   "file_extension": ".py",
   "mimetype": "text/x-python",
   "name": "python",
   "nbconvert_exporter": "python",
   "pygments_lexer": "ipython3",
   "version": "3.13.5"
  }
 },
 "nbformat": 4,
 "nbformat_minor": 2
}
